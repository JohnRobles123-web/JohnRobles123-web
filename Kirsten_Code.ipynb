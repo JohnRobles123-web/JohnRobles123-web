{
  "nbformat": 4,
  "nbformat_minor": 0,
  "metadata": {
    "colab": {
      "provenance": [],
      "authorship_tag": "ABX9TyOa/EK514Sfkp4DXMS+LFkZ",
      "include_colab_link": true
    },
    "kernelspec": {
      "name": "python3",
      "display_name": "Python 3"
    },
    "language_info": {
      "name": "python"
    }
  },
  "cells": [
    {
      "cell_type": "markdown",
      "metadata": {
        "id": "view-in-github",
        "colab_type": "text"
      },
      "source": [
        "<a href=\"https://colab.research.google.com/github/JohnRobles123-web/JohnRobles123-web/blob/main/Kirsten_Code.ipynb\" target=\"_parent\"><img src=\"https://colab.research.google.com/assets/colab-badge.svg\" alt=\"Open In Colab\"/></a>"
      ]
    },
    {
      "cell_type": "code",
      "source": [
        "Student_of_BSCS = dict()\n",
        "Student_of_BSCS[\"Kirsten\"] = 85\n",
        "Student_of_BSCS [\"Toffer\"] = 92\n",
        "Student_of_BSCS[\"Justin\"] = 78\n",
        "Student_of_BSCS[\"Kyle\"] = 88\n",
        "Student_of_BSCS[\"Jerem\"] = 95\n",
        "Student_of_BSCS[\"Gagan\"] = 80\n",
        "Student_of_BSCS[\"Lievin\"] = 87\n",
        "Student_of_BSCS[\"Christine\"] = 91\n",
        "Student_of_BSCS [\"Alex\"] = 76\n",
        "Student_of_BSCS[\"Ryan\"] = 89\n",
        "\n",
        "print(Student_of_BSCS)\n",
        "print(\"\\nTotal Grades of Students:\")\n",
        "print(sum(Student_of_BSCS.values()))\n",
        "print(\"\\nAverage Grades of Students:\")\n",
        "print(sum(Student_of_BSCS.values())/len(Student_of_BSCS))\n",
        "\n",
        "\n",
        "\n"
      ],
      "metadata": {
        "colab": {
          "base_uri": "https://localhost:8080/"
        },
        "id": "c1O2Un_6E6KR",
        "outputId": "08bf31b0-ffd8-4513-e81f-f945eb78c8dd"
      },
      "execution_count": 9,
      "outputs": [
        {
          "output_type": "stream",
          "name": "stdout",
          "text": [
            "{'Kirsten': 85, 'Toffer': 92, 'Justin': 78, 'Kyle': 88, 'Jerem': 95, 'Gagan': 80, 'Kait': 87, 'Hannah': 91, 'Alex': 76, 'Ryan': 89}\n",
            "\n",
            "Total Grades of Students:\n",
            "861\n",
            "\n",
            "Average Grades of Students:\n",
            "86.1\n"
          ]
        }
      ]
    },
    {
      "cell_type": "code",
      "source": [],
      "metadata": {
        "id": "VtUHR04WGo00"
      },
      "execution_count": null,
      "outputs": []
    }
  ]
}